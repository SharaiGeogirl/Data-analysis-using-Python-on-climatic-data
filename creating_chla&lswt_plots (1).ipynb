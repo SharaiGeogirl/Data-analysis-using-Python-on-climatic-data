{
 "cells": [
  {
   "cell_type": "code",
   "execution_count": 2,
   "id": "f35a1072-d8d8-4cc1-9bc6-5ab6052671ac",
   "metadata": {},
   "outputs": [],
   "source": [
    "from netCDF4 import Dataset\n",
    "import numpy as np\n",
    "import xarray as xr\n",
    "import os\n",
    "import time\n",
    "import matplotlib.pyplot as plt\n",
    "import pandas as pd\n",
    "%matplotlib inline"
   ]
  },
  {
   "cell_type": "code",
   "execution_count": 3,
   "id": "c32a7162-b62f-4724-9339-d8cf362f7476",
   "metadata": {},
   "outputs": [
    {
     "name": "stdout",
     "output_type": "stream",
     "text": [
      "           year  cases\n",
      "0    2012-01-01   1125\n",
      "1    2012-01-08    854\n",
      "2    2012-01-15    761\n",
      "3    2012-01-22    866\n",
      "4    2012-01-29    737\n",
      "..          ...    ...\n",
      "309  2017-12-03   1395\n",
      "310  2017-12-10   1207\n",
      "311  2017-12-17   1049\n",
      "312  2017-12-24    820\n",
      "313  2017-12-31    888\n",
      "\n",
      "[314 rows x 2 columns]\n"
     ]
    }
   ],
   "source": [
    "dp = pd.read_csv('data/cholera_week.csv', sep = ';')\n",
    "df = pd.DataFrame(dp, columns= ['year','cases'])\n",
    "print(df)"
   ]
  },
  {
   "cell_type": "code",
   "execution_count": 4,
   "id": "79f87379-ce5e-4fd5-8f46-86c56d0cf010",
   "metadata": {},
   "outputs": [
    {
     "name": "stdout",
     "output_type": "stream",
     "text": [
      "              time  chla_mean  lake_surface_water_temperature\n",
      "0       2014-01-01        NaN                             NaN\n",
      "1       2014-01-02        NaN                             NaN\n",
      "2       2014-01-03        NaN                             NaN\n",
      "3       2014-01-04        NaN                          301.02\n",
      "4       2014-01-05        NaN                             NaN\n",
      "...            ...        ...                             ...\n",
      "843607  2018-12-27   0.099337                          300.46\n",
      "843608  2018-12-28        NaN                             NaN\n",
      "843609  2018-12-29   0.116851                          299.43\n",
      "843610  2018-12-30        NaN                          298.34\n",
      "843611  2018-12-31   0.840850                          301.15\n",
      "\n",
      "[843612 rows x 3 columns]\n"
     ]
    }
   ],
   "source": [
    "import pandas as pd\n",
    "region 3 = pd.read_csv('south2.csv', sep = ',')\n",
    "south1 = pd.DataFrame(south, columns= ['time','chla_mean','lake_surface_water_temperature'])\n",
    "print(south1)"
   ]
  },
  {
   "cell_type": "code",
   "execution_count": 5,
   "id": "a3c7aa5b-0ce4-4fd2-a8ee-7e011938d6a1",
   "metadata": {},
   "outputs": [],
   "source": [
    "south = (south1.dropna())"
   ]
  },
  {
   "cell_type": "code",
   "execution_count": 6,
   "id": "7ba7cb64-96c8-4384-bf2d-47344d9cf4a2",
   "metadata": {},
   "outputs": [
    {
     "name": "stdout",
     "output_type": "stream",
     "text": [
      "       lat,lon,time,lake_surface_water_temperature,lswt_quality_level,chla_mean,turbidity_mean,Rw620\n",
      "0       -7.770833492279053,30.212499618530273,2014-01-...                                           \n",
      "1       -7.770833492279053,30.212499618530273,2014-01-...                                           \n",
      "2       -7.770833492279053,30.212499618530273,2014-01-...                                           \n",
      "3       -7.770833492279053,30.212499618530273,2014-01-...                                           \n",
      "4       -7.770833492279053,30.212499618530273,2014-01-...                                           \n",
      "...                                                   ...                                           \n",
      "805261  -7.604166507720947,30.379167556762695,2018-12-...                                           \n",
      "805262  -7.604166507720947,30.379167556762695,2018-12-...                                           \n",
      "805263  -7.604166507720947,30.379167556762695,2018-12-...                                           \n",
      "805264  -7.604166507720947,30.379167556762695,2018-12-...                                           \n",
      "805265  -7.604166507720947,30.379167556762695,2018-12-...                                           \n",
      "\n",
      "[805266 rows x 1 columns]\n"
     ]
    }
   ],
   "source": [
    "import pandas as pd\n",
    "dp = pd.read_csv('south1.csv', sep = ';')\n",
    "#df = pd.DataFrame(dp, columns= ['time','chla_mean'])\n",
    "print(dp)"
   ]
  },
  {
   "cell_type": "code",
   "execution_count": 9,
   "id": "5cbddc4c-7626-41b5-9f99-8ead74762ef9",
   "metadata": {},
   "outputs": [
    {
     "data": {
      "image/png": "[encoded data removed]",
      "text/plain": [
       "<Figure size 432x288 with 2 Axes>"
      ]
     },
     "metadata": {
      "needs_background": "light"
     },
     "output_type": "display_data"
    }
   ],
   "source": [
    "import matplotlib.pyplot as plt\n",
    "\n",
    "# Initalize a Figure and Axes\n",
    "fig, ax = plt.subplots()\n",
    "\n",
    "# Plot the CO2 variable in blue\n",
    "ax.plot(south.index, south[\"chla_mean\"], color='blue')\n",
    "\n",
    "# Create a twin Axes that shares the x-axis\n",
    "ax2 = ax.twinx()\n",
    "\n",
    "# Plot the relative temperature in red\n",
    "ax2.plot(south.index, south[\"lake_surface_water_temperature\"], color='red')\n",
    "\n",
    "plt.show()"
   ]
  },
  {
   "cell_type": "code",
   "execution_count": 1,
   "id": "cdd9ec81-4d76-4146-a969-b55fa7b1c8b5",
   "metadata": {},
   "outputs": [],
   "source": [
    "# Create monthly here\n",
    "##using resample() to convert to weekly data\n",
    "south.resample('m').mean()"
   ]
  },
  {
   "cell_type": "code",
   "execution_count": null,
   "id": "cc16b2bc-c6b7-4d36-9e3b-b05467abf2d0",
   "metadata": {},
   "outputs": [],
   "source": [
    "import pandas as pd\n",
    "\n",
    "#add csv file to dataframe\n",
    "df = pd.read_csv('south.csv')\n",
    "\n",
    "#create bar graph\n",
    "bargraph = df.plot.bar(x = 'chla_mean')"
   ]
  }
 ],
 "metadata": {
  "kernelspec": {
   "display_name": "Python",
   "language": "python",
   "name": "python3"
  },
  "language_info": {
   "codemirror_mode": {
    "name": "ipython",
    "version": 3
   },
   "file_extension": ".py",
   "mimetype": "text/x-python",
   "name": "python",
   "nbconvert_exporter": "python",
   "pygments_lexer": "ipython3",
   "version": "3.8.10"
  }
 },
 "nbformat": 4,
 "nbformat_minor": 5
}
